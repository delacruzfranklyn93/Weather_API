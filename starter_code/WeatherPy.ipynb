{
 "cells": [
  {
   "cell_type": "markdown",
   "metadata": {},
   "source": [
    "# WeatherPy\n",
    "----\n",
    "\n",
    "#### Note\n",
    "* Instructions have been included for each segment. You do not have to follow them exactly, but they are included to help you think through the steps."
   ]
  },
  {
   "cell_type": "code",
   "execution_count": 22,
   "metadata": {
    "scrolled": true
   },
   "outputs": [],
   "source": [
    "# Dependencies and Setup\n",
    "import matplotlib.pyplot as plt\n",
    "import pandas as pd\n",
    "import numpy as np\n",
    "import requests\n",
    "import datetime\n",
    "from scipy.stats import linregress\n",
    "import json\n",
    "import scipy.stats as st\n",
    "\n",
    "# Import API key\n",
    "from api_keys import weather_api_key\n",
    "\n",
    "# Incorporated citipy to determine city based on latitude and longitude\n",
    "from citipy import citipy\n",
    "\n",
    "# Output File (CSV)\n",
    "output_data_file = \"output_data/cities.csv\"\n",
    "\n",
    "# Range of latitudes and longitudes\n",
    "lat_range = (-90, 90)\n",
    "lng_range = (-180, 180)"
   ]
  },
  {
   "cell_type": "markdown",
   "metadata": {},
   "source": [
    "## Generate Cities List"
   ]
  },
  {
   "cell_type": "code",
   "execution_count": 3,
   "metadata": {},
   "outputs": [
    {
     "data": {
      "text/plain": [
       "626"
      ]
     },
     "execution_count": 3,
     "metadata": {},
     "output_type": "execute_result"
    }
   ],
   "source": [
    "# List for holding lat_lngs and cities\n",
    "lat_lngs = []\n",
    "cities = []\n",
    "\n",
    "# Create a set of random lat and lng combinations\n",
    "lats = np.random.uniform(lat_range[0], lat_range[1], size=1500)\n",
    "lngs = np.random.uniform(lng_range[0], lng_range[1], size=1500)\n",
    "\n",
    "lat_lngs = zip(lats, lngs)\n",
    "\n",
    "# Identify nearest city for each lat, lng combination\n",
    "for lat_lng in lat_lngs:\n",
    "    city = citipy.nearest_city(lat_lng[0], lat_lng[1]).city_name\n",
    "    \n",
    "    # If the city is unique, then add it to a our cities list\n",
    "    if city not in cities:\n",
    "        cities.append(city)\n",
    "\n",
    "# Print the city count to confirm sufficient count\n",
    "len(cities)"
   ]
  },
  {
   "cell_type": "markdown",
   "metadata": {},
   "source": [
    "### Perform API Calls\n",
    "* Perform a weather check on each city using a series of successive API calls.\n",
    "* Include a print log of each city as it'sbeing processed (with the city number and city name).\n"
   ]
  },
  {
   "cell_type": "code",
   "execution_count": 4,
   "metadata": {
    "scrolled": true
   },
   "outputs": [
    {
     "name": "stdout",
     "output_type": "stream",
     "text": [
      "Beginning Data Retrieval\n",
      "--------------------------------\n",
      "Processing Record 1 of set 1 | tuktoyaktuk\n",
      "Processing Record 2 of set 1 | nyandoma\n",
      "Processing Record 3 of set 1 | jamestown\n",
      "City not found. Skipping...\n",
      "Processing Record 4 of set 1 | qaanaaq\n",
      "Processing Record 5 of set 1 | bubaque\n",
      "Processing Record 6 of set 1 | bluff\n",
      "Processing Record 7 of set 1 | barrow\n",
      "Processing Record 8 of set 1 | hailar\n",
      "Processing Record 9 of set 1 | arraial do cabo\n",
      "Processing Record 10 of set 1 | punta arenas\n",
      "Processing Record 11 of set 1 | vaini\n",
      "Processing Record 12 of set 1 | hobart\n",
      "Processing Record 13 of set 1 | prince rupert\n",
      "Processing Record 14 of set 1 | port elizabeth\n",
      "Processing Record 15 of set 1 | puerto ayora\n",
      "Processing Record 16 of set 1 | lasa\n",
      "Processing Record 17 of set 1 | bredasdorp\n",
      "Processing Record 18 of set 1 | geraldton\n",
      "Processing Record 19 of set 1 | kavieng\n",
      "City not found. Skipping...\n",
      "Processing Record 20 of set 1 | severo-kurilsk\n",
      "Processing Record 21 of set 1 | alofi\n",
      "Processing Record 22 of set 1 | maningrida\n",
      "Processing Record 23 of set 1 | kenai\n",
      "Processing Record 24 of set 1 | isangel\n",
      "Processing Record 25 of set 1 | dikson\n",
      "Processing Record 26 of set 1 | butaritari\n",
      "Processing Record 27 of set 1 | guerrero negro\n",
      "City not found. Skipping...\n",
      "Processing Record 28 of set 1 | dingle\n",
      "Processing Record 29 of set 1 | broken hill\n",
      "Processing Record 30 of set 1 | pevek\n",
      "Processing Record 31 of set 1 | mayo\n",
      "Processing Record 32 of set 1 | albany\n",
      "Processing Record 33 of set 1 | benguela\n",
      "Processing Record 34 of set 1 | thompson\n",
      "Processing Record 35 of set 1 | arman\n",
      "Processing Record 36 of set 1 | kushiro\n",
      "Processing Record 37 of set 1 | marsala\n",
      "Processing Record 38 of set 1 | busselton\n",
      "Processing Record 39 of set 1 | plettenberg bay\n",
      "Processing Record 40 of set 1 | nanakuli\n",
      "Processing Record 41 of set 1 | progreso\n",
      "Processing Record 42 of set 1 | west wendover\n",
      "Processing Record 43 of set 1 | souillac\n",
      "Processing Record 44 of set 1 | northam\n",
      "Processing Record 45 of set 1 | carnarvon\n",
      "Processing Record 46 of set 1 | margate\n",
      "Processing Record 47 of set 1 | kemi\n",
      "Processing Record 48 of set 1 | bengkulu\n",
      "Processing Record 49 of set 1 | isla mujeres\n",
      "Processing Record 50 of set 1 | kodiak\n",
      "Processing Record 1 of set 2 | constitucion\n",
      "Processing Record 2 of set 2 | te anau\n",
      "Processing Record 3 of set 2 | hermanus\n",
      "City not found. Skipping...\n",
      "City not found. Skipping...\n",
      "Processing Record 4 of set 2 | atuona\n",
      "Processing Record 5 of set 2 | bethel\n",
      "City not found. Skipping...\n",
      "Processing Record 6 of set 2 | burnie\n",
      "Processing Record 7 of set 2 | fort-shevchenko\n",
      "Processing Record 8 of set 2 | muros\n",
      "Processing Record 9 of set 2 | ponta do sol\n",
      "Processing Record 10 of set 2 | rikitea\n",
      "Processing Record 11 of set 2 | lebu\n",
      "City not found. Skipping...\n",
      "Processing Record 12 of set 2 | adrar\n",
      "Processing Record 13 of set 2 | new norfolk\n",
      "Processing Record 14 of set 2 | shache\n",
      "Processing Record 15 of set 2 | cape town\n",
      "Processing Record 16 of set 2 | jiaozuo\n",
      "Processing Record 17 of set 2 | katsuura\n",
      "Processing Record 18 of set 2 | ushuaia\n",
      "Processing Record 19 of set 2 | caravelas\n",
      "Processing Record 20 of set 2 | los llanos de aridane\n",
      "City not found. Skipping...\n",
      "Processing Record 21 of set 2 | bilibino\n",
      "Processing Record 22 of set 2 | saint-philippe\n",
      "Processing Record 23 of set 2 | port hedland\n",
      "Processing Record 24 of set 2 | kapaa\n",
      "Processing Record 25 of set 2 | airai\n",
      "Processing Record 26 of set 2 | gladstone\n",
      "Processing Record 27 of set 2 | east london\n",
      "Processing Record 28 of set 2 | faanui\n",
      "Processing Record 29 of set 2 | virginia beach\n",
      "Processing Record 30 of set 2 | bathsheba\n",
      "Processing Record 31 of set 2 | hervey bay\n",
      "Processing Record 32 of set 2 | lobatse\n",
      "Processing Record 33 of set 2 | waihi beach\n",
      "Processing Record 34 of set 2 | castro\n",
      "Processing Record 35 of set 2 | saldanha\n",
      "Processing Record 36 of set 2 | mykhaylivka\n",
      "Processing Record 37 of set 2 | arlit\n",
      "Processing Record 38 of set 2 | grindavik\n",
      "Processing Record 39 of set 2 | mataura\n",
      "Processing Record 40 of set 2 | jiran\n",
      "Processing Record 41 of set 2 | ostrovnoy\n",
      "Processing Record 42 of set 2 | krasnoarmeyskoye\n",
      "Processing Record 43 of set 2 | saint anthony\n",
      "Processing Record 44 of set 2 | mattru\n",
      "City not found. Skipping...\n",
      "Processing Record 45 of set 2 | san carlos de bariloche\n",
      "Processing Record 46 of set 2 | hamilton\n",
      "Processing Record 47 of set 2 | warrnambool\n",
      "Processing Record 48 of set 2 | boyolangu\n",
      "Processing Record 49 of set 2 | cabo san lucas\n",
      "Processing Record 50 of set 2 | tiarei\n",
      "Processing Record 1 of set 3 | saskylakh\n",
      "Processing Record 2 of set 3 | laela\n",
      "Processing Record 3 of set 3 | richards bay\n",
      "Processing Record 4 of set 3 | goundam\n",
      "Processing Record 5 of set 3 | yulara\n",
      "Processing Record 6 of set 3 | hami\n",
      "Processing Record 7 of set 3 | koronowo\n",
      "Processing Record 8 of set 3 | miri\n",
      "Processing Record 9 of set 3 | porto murtinho\n",
      "City not found. Skipping...\n",
      "City not found. Skipping...\n",
      "Processing Record 10 of set 3 | longyearbyen\n",
      "Processing Record 11 of set 3 | lompoc\n",
      "Processing Record 12 of set 3 | vardo\n",
      "Processing Record 13 of set 3 | norman wells\n",
      "Processing Record 14 of set 3 | akdepe\n",
      "Processing Record 15 of set 3 | sitka\n",
      "City not found. Skipping...\n",
      "Processing Record 16 of set 3 | poum\n",
      "Processing Record 17 of set 3 | rovaniemi\n",
      "Processing Record 18 of set 3 | nalut\n",
      "Processing Record 19 of set 3 | miguel auza\n",
      "Processing Record 20 of set 3 | mar del plata\n",
      "Processing Record 21 of set 3 | zhoucheng\n",
      "Processing Record 22 of set 3 | gorontalo\n",
      "Processing Record 23 of set 3 | ongandjera\n",
      "Processing Record 24 of set 3 | markova\n",
      "Processing Record 25 of set 3 | yellowknife\n",
      "Processing Record 26 of set 3 | hilo\n",
      "Processing Record 27 of set 3 | carutapera\n",
      "Processing Record 28 of set 3 | port hawkesbury\n",
      "Processing Record 29 of set 3 | presidente epitacio\n",
      "City not found. Skipping...\n",
      "Processing Record 30 of set 3 | biltine\n",
      "Processing Record 31 of set 3 | port alfred\n",
      "Processing Record 32 of set 3 | mount gambier\n",
      "Processing Record 33 of set 3 | garowe\n",
      "Processing Record 34 of set 3 | fortuna\n",
      "Processing Record 35 of set 3 | ribeira grande\n",
      "Processing Record 36 of set 3 | zhangye\n",
      "Processing Record 37 of set 3 | visby\n",
      "Processing Record 38 of set 3 | stornoway\n",
      "Processing Record 39 of set 3 | acajutla\n",
      "Processing Record 40 of set 3 | belmonte\n",
      "Processing Record 41 of set 3 | rach gia\n",
      "Processing Record 42 of set 3 | beloha\n",
      "Processing Record 43 of set 3 | nelson bay\n",
      "Processing Record 44 of set 3 | bokhan\n",
      "Processing Record 45 of set 3 | izumo\n",
      "Processing Record 46 of set 3 | pangkalanbuun\n",
      "Processing Record 47 of set 3 | vao\n",
      "Processing Record 48 of set 3 | cairns\n",
      "Processing Record 49 of set 3 | kribi\n",
      "Processing Record 50 of set 3 | tanta\n",
      "Processing Record 1 of set 4 | san patricio\n",
      "Processing Record 2 of set 4 | quatre cocos\n",
      "Processing Record 3 of set 4 | kenscoff\n",
      "Processing Record 4 of set 4 | puerto cabezas\n",
      "Processing Record 5 of set 4 | lashio\n",
      "City not found. Skipping...\n",
      "City not found. Skipping...\n",
      "City not found. Skipping...\n",
      "City not found. Skipping...\n",
      "Processing Record 6 of set 4 | beverley\n",
      "Processing Record 7 of set 4 | chara\n",
      "Processing Record 8 of set 4 | evensk\n",
      "City not found. Skipping...\n",
      "Processing Record 9 of set 4 | vysha\n",
      "Processing Record 10 of set 4 | moquegua\n",
      "Processing Record 11 of set 4 | torbay\n",
      "Processing Record 12 of set 4 | ler\n",
      "Processing Record 13 of set 4 | aklavik\n",
      "Processing Record 14 of set 4 | tiksi\n",
      "City not found. Skipping...\n",
      "Processing Record 15 of set 4 | biak\n",
      "Processing Record 16 of set 4 | georgetown\n",
      "Processing Record 17 of set 4 | camacha\n",
      "City not found. Skipping...\n",
      "Processing Record 18 of set 4 | wang saphung\n",
      "Processing Record 19 of set 4 | evanston\n",
      "Processing Record 20 of set 4 | kyra\n",
      "Processing Record 21 of set 4 | chuy\n",
      "City not found. Skipping...\n",
      "Processing Record 22 of set 4 | upernavik\n",
      "Processing Record 23 of set 4 | tautira\n",
      "Processing Record 24 of set 4 | bereda\n",
      "Processing Record 25 of set 4 | kaniama\n",
      "Processing Record 26 of set 4 | petropavlovsk-kamchatskiy\n",
      "Processing Record 27 of set 4 | nikolskoye\n",
      "Processing Record 28 of set 4 | aktas\n",
      "Processing Record 29 of set 4 | butterworth\n",
      "Processing Record 30 of set 4 | kautokeino\n",
      "Processing Record 31 of set 4 | tasiilaq\n",
      "Processing Record 32 of set 4 | shakhovskaya\n",
      "Processing Record 33 of set 4 | yarada\n",
      "City not found. Skipping...\n",
      "Processing Record 34 of set 4 | shingu\n",
      "Processing Record 35 of set 4 | avarua\n",
      "Processing Record 36 of set 4 | xifeng\n",
      "Processing Record 37 of set 4 | korla\n",
      "Processing Record 38 of set 4 | hithadhoo\n",
      "Processing Record 39 of set 4 | victoria\n",
      "Processing Record 40 of set 4 | clyde river\n",
      "Processing Record 41 of set 4 | leningradskiy\n",
      "Processing Record 42 of set 4 | belogorsk\n",
      "Processing Record 43 of set 4 | inirida\n",
      "Processing Record 44 of set 4 | salym\n",
      "Processing Record 45 of set 4 | shuangyang\n",
      "Processing Record 46 of set 4 | khujner\n",
      "Processing Record 47 of set 4 | morehead\n",
      "Processing Record 48 of set 4 | comodoro rivadavia\n",
      "Processing Record 49 of set 4 | srednekolymsk\n",
      "Processing Record 50 of set 4 | nanortalik\n",
      "Processing Record 1 of set 5 | provideniya\n",
      "Processing Record 2 of set 5 | kamaishi\n",
      "Processing Record 3 of set 5 | maldonado\n",
      "Processing Record 4 of set 5 | fiumicino\n",
      "City not found. Skipping...\n",
      "Processing Record 5 of set 5 | anchorage\n",
      "Processing Record 6 of set 5 | khatanga\n",
      "Processing Record 7 of set 5 | shenjiamen\n",
      "Processing Record 8 of set 5 | kaitangata\n",
      "Processing Record 9 of set 5 | ust-omchug\n",
      "City not found. Skipping...\n",
      "Processing Record 10 of set 5 | turayf\n",
      "Processing Record 11 of set 5 | pontes e lacerda\n",
      "Processing Record 12 of set 5 | svetlogorsk\n",
      "Processing Record 13 of set 5 | jasper\n",
      "Processing Record 14 of set 5 | parrita\n",
      "City not found. Skipping...\n",
      "Processing Record 15 of set 5 | ilulissat\n",
      "Processing Record 16 of set 5 | peniche\n",
      "Processing Record 17 of set 5 | samarai\n",
      "City not found. Skipping...\n",
      "Processing Record 18 of set 5 | narsaq\n",
      "Processing Record 19 of set 5 | palmares\n",
      "Processing Record 20 of set 5 | trat\n",
      "Processing Record 21 of set 5 | camargo\n",
      "Processing Record 22 of set 5 | hukuntsi\n",
      "Processing Record 23 of set 5 | dzhebariki-khaya\n",
      "Processing Record 24 of set 5 | inhambane\n",
      "Processing Record 25 of set 5 | motygino\n",
      "Processing Record 26 of set 5 | qinzhou\n",
      "Processing Record 27 of set 5 | haines junction\n",
      "City not found. Skipping...\n",
      "Processing Record 28 of set 5 | lewistown\n",
      "Processing Record 29 of set 5 | hede\n",
      "Processing Record 30 of set 5 | sao joao da barra\n",
      "Processing Record 31 of set 5 | kilindoni\n",
      "Processing Record 32 of set 5 | sao sebastiao\n",
      "Processing Record 33 of set 5 | colares\n",
      "Processing Record 34 of set 5 | ulaanbaatar\n",
      "City not found. Skipping...\n",
      "Processing Record 35 of set 5 | kavaratti\n",
      "Processing Record 36 of set 5 | dohar\n",
      "Processing Record 37 of set 5 | cherskiy\n",
      "Processing Record 38 of set 5 | muchkapskiy\n",
      "Processing Record 39 of set 5 | tshikapa\n",
      "Processing Record 40 of set 5 | sioux lookout\n",
      "Processing Record 41 of set 5 | fereydunshahr\n",
      "Processing Record 42 of set 5 | male\n",
      "Processing Record 43 of set 5 | ewo\n",
      "Processing Record 44 of set 5 | escarcega\n",
      "Processing Record 45 of set 5 | melilla\n",
      "City not found. Skipping...\n",
      "Processing Record 46 of set 5 | kahului\n",
      "Processing Record 47 of set 5 | port hardy\n",
      "Processing Record 48 of set 5 | amapa\n",
      "Processing Record 49 of set 5 | aktau\n",
      "Processing Record 50 of set 5 | talnakh\n",
      "Processing Record 1 of set 6 | chaparral\n",
      "City not found. Skipping...\n",
      "Processing Record 2 of set 6 | shelburne\n",
      "Processing Record 3 of set 6 | namibe\n",
      "Processing Record 4 of set 6 | rabo de peixe\n",
      "City not found. Skipping...\n",
      "City not found. Skipping...\n",
      "Processing Record 5 of set 6 | hambantota\n",
      "Processing Record 6 of set 6 | egvekinot\n",
      "Processing Record 7 of set 6 | carnduff\n",
      "Processing Record 8 of set 6 | batagay-alyta\n",
      "Processing Record 9 of set 6 | husavik\n",
      "Processing Record 10 of set 6 | pacific grove\n",
      "Processing Record 11 of set 6 | flin flon\n",
      "Processing Record 12 of set 6 | lorengau\n",
      "Processing Record 13 of set 6 | jacqueville\n",
      "Processing Record 14 of set 6 | lichtenfels\n",
      "Processing Record 15 of set 6 | yining\n",
      "Processing Record 16 of set 6 | ust-kuyga\n",
      "City not found. Skipping...\n",
      "Processing Record 17 of set 6 | jieznas\n",
      "Processing Record 18 of set 6 | havre-saint-pierre\n",
      "Processing Record 19 of set 6 | kimbe\n",
      "Processing Record 20 of set 6 | sibolga\n",
      "Processing Record 21 of set 6 | longhua\n",
      "Processing Record 22 of set 6 | luwuk\n",
      "Processing Record 23 of set 6 | cayenne\n",
      "Processing Record 24 of set 6 | vaitape\n",
      "Processing Record 25 of set 6 | leshukonskoye\n",
      "Processing Record 26 of set 6 | mahebourg\n",
      "Processing Record 27 of set 6 | promyshlennaya\n",
      "Processing Record 28 of set 6 | atherton\n",
      "Processing Record 29 of set 6 | port lincoln\n",
      "Processing Record 30 of set 6 | leon\n",
      "Processing Record 31 of set 6 | fushun\n",
      "Processing Record 32 of set 6 | vigia del fuerte\n",
      "Processing Record 33 of set 6 | cicevac\n",
      "Processing Record 34 of set 6 | seredka\n",
      "Processing Record 35 of set 6 | tura\n",
      "Processing Record 36 of set 6 | san quintin\n",
      "Processing Record 37 of set 6 | bytca\n",
      "Processing Record 38 of set 6 | yaan\n",
      "Processing Record 39 of set 6 | nome\n",
      "Processing Record 40 of set 6 | erzin\n",
      "Processing Record 41 of set 6 | malartic\n",
      "Processing Record 42 of set 6 | vilyuysk\n",
      "Processing Record 43 of set 6 | safonovo\n",
      "Processing Record 44 of set 6 | antofagasta\n",
      "Processing Record 45 of set 6 | beppu\n",
      "Processing Record 46 of set 6 | rocha\n",
      "City not found. Skipping...\n",
      "Processing Record 47 of set 6 | pimentel\n",
      "Processing Record 48 of set 6 | akyab\n",
      "Processing Record 49 of set 6 | angoche\n",
      "Processing Record 50 of set 6 | cabedelo\n",
      "Processing Record 1 of set 7 | yerbogachen\n",
      "Processing Record 2 of set 7 | bambous virieux\n",
      "Processing Record 3 of set 7 | viedma\n",
      "Processing Record 4 of set 7 | la ronge\n",
      "Processing Record 5 of set 7 | umea\n",
      "Processing Record 6 of set 7 | lavrentiya\n",
      "Processing Record 7 of set 7 | bam\n",
      "Processing Record 8 of set 7 | rexburg\n",
      "Processing Record 9 of set 7 | opuwo\n",
      "Processing Record 10 of set 7 | luderitz\n",
      "Processing Record 11 of set 7 | waingapu\n",
      "Processing Record 12 of set 7 | saint george\n",
      "Processing Record 13 of set 7 | nguru\n",
      "Processing Record 14 of set 7 | denpasar\n",
      "Processing Record 15 of set 7 | brae\n",
      "Processing Record 16 of set 7 | trairi\n",
      "Processing Record 17 of set 7 | dakar\n",
      "City not found. Skipping...\n",
      "Processing Record 18 of set 7 | griffith\n",
      "City not found. Skipping...\n",
      "Processing Record 19 of set 7 | alta floresta\n",
      "Processing Record 20 of set 7 | wiarton\n",
      "Processing Record 21 of set 7 | flinders\n",
      "City not found. Skipping...\n",
      "Processing Record 22 of set 7 | tessalit\n",
      "Processing Record 23 of set 7 | sukhaya buyvola\n",
      "Processing Record 24 of set 7 | oranjemund\n",
      "Processing Record 25 of set 7 | puerto del rosario\n",
      "Processing Record 26 of set 7 | ixtapa\n",
      "Processing Record 27 of set 7 | diu\n",
      "Processing Record 28 of set 7 | pisco\n",
      "City not found. Skipping...\n",
      "Processing Record 29 of set 7 | camopi\n",
      "Processing Record 30 of set 7 | labuan\n",
      "Processing Record 31 of set 7 | makakilo city\n",
      "Processing Record 32 of set 7 | aswan\n",
      "Processing Record 33 of set 7 | omboue\n",
      "Processing Record 34 of set 7 | hasaki\n",
      "Processing Record 35 of set 7 | mirnyy\n",
      "Processing Record 36 of set 7 | hualmay\n",
      "Processing Record 37 of set 7 | avera\n",
      "Processing Record 38 of set 7 | pryozerne\n",
      "Processing Record 39 of set 7 | huarmey\n",
      "Processing Record 40 of set 7 | fort nelson\n",
      "Processing Record 41 of set 7 | healdsburg\n",
      "Processing Record 42 of set 7 | hay river\n",
      "Processing Record 43 of set 7 | faya\n",
      "Processing Record 44 of set 7 | meaford\n",
      "Processing Record 45 of set 7 | anadyr\n",
      "Processing Record 46 of set 7 | katangli\n",
      "Processing Record 47 of set 7 | sasykoli\n",
      "Processing Record 48 of set 7 | nisia floresta\n",
      "Processing Record 49 of set 7 | vila franca do campo\n",
      "Processing Record 50 of set 7 | marsh harbour\n",
      "Processing Record 1 of set 8 | ajdabiya\n",
      "City not found. Skipping...\n",
      "Processing Record 2 of set 8 | wanning\n",
      "Processing Record 3 of set 8 | tiznit\n",
      "Processing Record 4 of set 8 | igrim\n",
      "Processing Record 5 of set 8 | iqaluit\n",
      "Processing Record 6 of set 8 | iranshahr\n",
      "Processing Record 7 of set 8 | qostanay\n",
      "Processing Record 8 of set 8 | codrington\n",
      "Processing Record 9 of set 8 | hermiston\n",
      "Processing Record 10 of set 8 | mount pleasant\n",
      "Processing Record 11 of set 8 | itarema\n",
      "Processing Record 12 of set 8 | santa fe\n",
      "Processing Record 13 of set 8 | hokitika\n",
      "Processing Record 14 of set 8 | tumbes\n",
      "Processing Record 15 of set 8 | wana\n",
      "Processing Record 16 of set 8 | urdoma\n",
      "Processing Record 17 of set 8 | rawson\n",
      "Processing Record 18 of set 8 | rio gallegos\n",
      "Processing Record 19 of set 8 | mezen\n",
      "Processing Record 20 of set 8 | dunedin\n",
      "City not found. Skipping...\n",
      "City not found. Skipping...\n",
      "Processing Record 21 of set 8 | teguldet\n",
      "Processing Record 22 of set 8 | lyubytino\n",
      "Processing Record 23 of set 8 | lata\n",
      "Processing Record 24 of set 8 | buraydah\n",
      "Processing Record 25 of set 8 | mecca\n",
      "Processing Record 26 of set 8 | kharp\n",
      "Processing Record 27 of set 8 | houma\n",
      "Processing Record 28 of set 8 | tuatapere\n",
      "Processing Record 29 of set 8 | salinas\n",
      "Processing Record 30 of set 8 | ergani\n",
      "Processing Record 31 of set 8 | hobyo\n",
      "Processing Record 32 of set 8 | ballina\n",
      "Processing Record 33 of set 8 | gamba\n",
      "Processing Record 34 of set 8 | peto\n",
      "Processing Record 35 of set 8 | blythe\n",
      "Processing Record 36 of set 8 | araguaina\n",
      "Processing Record 37 of set 8 | manado\n",
      "Processing Record 38 of set 8 | nogliki\n",
      "Processing Record 39 of set 8 | kismayo\n",
      "Processing Record 40 of set 8 | chokurdakh\n",
      "Processing Record 41 of set 8 | pedernales\n",
      "Processing Record 42 of set 8 | klyuchi\n",
      "Processing Record 43 of set 8 | cidreira\n",
      "Processing Record 44 of set 8 | diffa\n",
      "Processing Record 45 of set 8 | garoua boulai\n",
      "Processing Record 46 of set 8 | kofele\n",
      "Processing Record 47 of set 8 | menzelinsk\n",
      "Processing Record 48 of set 8 | san ramon\n",
      "Processing Record 49 of set 8 | powell\n",
      "Processing Record 50 of set 8 | liwale\n",
      "Processing Record 1 of set 9 | padang\n",
      "Processing Record 2 of set 9 | alice springs\n",
      "Processing Record 3 of set 9 | homestead\n",
      "Processing Record 4 of set 9 | zunyi\n",
      "Processing Record 5 of set 9 | auki\n",
      "Processing Record 6 of set 9 | russell\n",
      "Processing Record 7 of set 9 | zurrieq\n",
      "Processing Record 8 of set 9 | sinnamary\n",
      "Processing Record 9 of set 9 | bosaso\n",
      "Processing Record 10 of set 9 | harper\n",
      "Processing Record 11 of set 9 | chase\n",
      "Processing Record 12 of set 9 | constantine\n",
      "Processing Record 13 of set 9 | beyneu\n",
      "Processing Record 14 of set 9 | coquimbo\n",
      "Processing Record 15 of set 9 | kaikalur\n",
      "Processing Record 16 of set 9 | corner brook\n",
      "Processing Record 17 of set 9 | phan thiet\n",
      "Processing Record 18 of set 9 | neokhorion\n",
      "Processing Record 19 of set 9 | koslan\n",
      "Processing Record 20 of set 9 | xicotencatl\n",
      "Processing Record 21 of set 9 | felanitx\n",
      "Processing Record 22 of set 9 | punta alta\n",
      "City not found. Skipping...\n",
      "City not found. Skipping...\n",
      "Processing Record 23 of set 9 | teya\n",
      "Processing Record 24 of set 9 | teguise\n",
      "Processing Record 25 of set 9 | kuusamo\n",
      "City not found. Skipping...\n",
      "Processing Record 26 of set 9 | shahr-e kord\n",
      "Processing Record 27 of set 9 | xique-xique\n",
      "Processing Record 28 of set 9 | jalu\n",
      "City not found. Skipping...\n",
      "Processing Record 29 of set 9 | comandau\n",
      "City not found. Skipping...\n",
      "Processing Record 30 of set 9 | gornyy\n",
      "Processing Record 31 of set 9 | digby\n",
      "Processing Record 32 of set 9 | neiafu\n",
      "Processing Record 33 of set 9 | puerto madryn\n",
      "Processing Record 34 of set 9 | cheney\n",
      "Processing Record 35 of set 9 | rauma\n",
      "Processing Record 36 of set 9 | merauke\n",
      "Processing Record 37 of set 9 | olafsvik\n",
      "Processing Record 38 of set 9 | laguna\n",
      "Processing Record 39 of set 9 | barra\n",
      "Processing Record 40 of set 9 | otane\n",
      "Processing Record 41 of set 9 | aviles\n",
      "Processing Record 42 of set 9 | kloulklubed\n",
      "Processing Record 43 of set 9 | kerman\n",
      "Processing Record 44 of set 9 | kholmogory\n",
      "Processing Record 45 of set 9 | tagab\n",
      "Processing Record 46 of set 9 | hovd\n",
      "Processing Record 47 of set 9 | rustenburg\n",
      "Processing Record 48 of set 9 | dolores\n",
      "Processing Record 49 of set 9 | mama\n",
      "Processing Record 50 of set 9 | lucapa\n",
      "Processing Record 1 of set 10 | erdenet\n",
      "Processing Record 2 of set 10 | warmbad\n",
      "Processing Record 3 of set 10 | dukat\n",
      "Processing Record 4 of set 10 | verkhnevilyuysk\n",
      "Processing Record 5 of set 10 | salta\n",
      "Processing Record 6 of set 10 | kaeo\n",
      "Processing Record 7 of set 10 | winnemucca\n",
      "Processing Record 8 of set 10 | christchurch\n",
      "Processing Record 9 of set 10 | college\n",
      "Processing Record 10 of set 10 | luau\n",
      "Processing Record 11 of set 10 | vila\n",
      "Processing Record 12 of set 10 | palmer\n",
      "Processing Record 13 of set 10 | kieta\n",
      "Processing Record 14 of set 10 | along\n",
      "Processing Record 15 of set 10 | blind river\n",
      "Processing Record 16 of set 10 | lagunas\n",
      "Processing Record 17 of set 10 | kruisfontein\n",
      "Processing Record 18 of set 10 | kuah\n",
      "Processing Record 19 of set 10 | cabacao\n",
      "Processing Record 20 of set 10 | tual\n",
      "Processing Record 21 of set 10 | nemuro\n",
      "Processing Record 22 of set 10 | saint-andre-avellin\n",
      "Processing Record 23 of set 10 | shebunino\n",
      "Processing Record 24 of set 10 | podgornoye\n",
      "Processing Record 25 of set 10 | kaberamaido\n",
      "Processing Record 26 of set 10 | labuhan\n",
      "Processing Record 27 of set 10 | izhma\n",
      "City not found. Skipping...\n",
      "Processing Record 28 of set 10 | belle fourche\n",
      "Processing Record 29 of set 10 | adiake\n",
      "Processing Record 30 of set 10 | ayan\n",
      "Processing Record 31 of set 10 | barda\n",
      "Processing Record 32 of set 10 | broome\n",
      "Processing Record 33 of set 10 | revda\n",
      "Processing Record 34 of set 10 | the valley\n",
      "Processing Record 35 of set 10 | springbok\n",
      "Processing Record 36 of set 10 | sechura\n",
      "City not found. Skipping...\n",
      "Processing Record 37 of set 10 | hofn\n",
      "Processing Record 38 of set 10 | juwana\n",
      "Processing Record 39 of set 10 | beringovskiy\n",
      "Processing Record 40 of set 10 | misratah\n",
      "Processing Record 41 of set 10 | balykshi\n",
      "Processing Record 42 of set 10 | mehamn\n",
      "Processing Record 43 of set 10 | kropotkin\n",
      "Processing Record 44 of set 10 | ugoofaaru\n",
      "Processing Record 45 of set 10 | kanye\n",
      "Processing Record 46 of set 10 | sur\n",
      "Processing Record 47 of set 10 | petukhovo\n",
      "Processing Record 48 of set 10 | portland\n",
      "Processing Record 49 of set 10 | usak\n",
      "Processing Record 50 of set 10 | vestmannaeyjar\n",
      "Processing Record 1 of set 11 | rosario\n",
      "Processing Record 2 of set 11 | bonfim\n",
      "Processing Record 3 of set 11 | talaya\n",
      "Processing Record 4 of set 11 | cocobeach\n",
      "Processing Record 5 of set 11 | ponta delgada\n",
      "Processing Record 6 of set 11 | sicamous\n",
      "Processing Record 7 of set 11 | galesong\n",
      "Processing Record 8 of set 11 | mocuba\n",
      "City not found. Skipping...\n",
      "Processing Record 9 of set 11 | tilichiki\n",
      "Processing Record 10 of set 11 | velsk\n",
      "Processing Record 11 of set 11 | bang saphan\n",
      "Processing Record 12 of set 11 | lagoa\n",
      "Processing Record 13 of set 11 | brigantine\n",
      "Processing Record 14 of set 11 | alpena\n",
      "Processing Record 15 of set 11 | doha\n",
      "City not found. Skipping...\n",
      "Processing Record 16 of set 11 | fairbanks\n",
      "Processing Record 17 of set 11 | porto santo\n",
      "Processing Record 18 of set 11 | moerai\n",
      "Processing Record 19 of set 11 | cuamba\n",
      "Processing Record 20 of set 11 | komsomolskiy\n",
      "Processing Record 21 of set 11 | omsukchan\n",
      "Processing Record 22 of set 11 | ketchikan\n",
      "Processing Record 23 of set 11 | lipin bor\n",
      "Processing Record 24 of set 11 | oyama\n",
      "Processing Record 25 of set 11 | bodden town\n",
      "Processing Record 26 of set 11 | oconomowoc\n",
      "Processing Record 27 of set 11 | hua hin\n",
      "Processing Record 28 of set 11 | fayaoue\n",
      "Processing Record 29 of set 11 | staryy nadym\n",
      "Processing Record 30 of set 11 | plouzane\n",
      "Processing Record 31 of set 11 | nuuk\n",
      "City not found. Skipping...\n",
      "Processing Record 32 of set 11 | sistranda\n",
      "Processing Record 33 of set 11 | banda aceh\n",
      "Processing Record 34 of set 11 | petropavlovka\n",
      "Processing Record 35 of set 11 | baiyin\n",
      "Processing Record 36 of set 11 | sawtell\n",
      "Processing Record 37 of set 11 | atasu\n",
      "Processing Record 38 of set 11 | kulu\n",
      "Processing Record 39 of set 11 | jinchang\n",
      "Processing Record 40 of set 11 | kununurra\n",
      "Processing Record 41 of set 11 | conakry\n",
      "Processing Record 42 of set 11 | celestun\n",
      "Processing Record 43 of set 11 | shitanjing\n",
      "Processing Record 44 of set 11 | tanout\n",
      "Processing Record 45 of set 11 | yazd\n",
      "Processing Record 46 of set 11 | lake cowichan\n",
      "Processing Record 47 of set 11 | san cristobal\n",
      "Processing Record 48 of set 11 | two rivers\n",
      "Processing Record 49 of set 11 | solnechnyy\n",
      "Processing Record 50 of set 11 | gat\n",
      "City not found. Skipping...\n",
      "Processing Record 1 of set 12 | turkan\n",
      "Processing Record 2 of set 12 | baykit\n",
      "Processing Record 3 of set 12 | tsabong\n",
      "Processing Record 4 of set 12 | payson\n",
      "Processing Record 5 of set 12 | belgrade\n",
      "Processing Record 6 of set 12 | san jose\n",
      "Processing Record 7 of set 12 | enshi\n",
      "Processing Record 8 of set 12 | imuris\n",
      "Processing Record 9 of set 12 | rio grande\n",
      "Processing Record 10 of set 12 | mubi\n",
      "Processing Record 11 of set 12 | tezu\n",
      "Processing Record 12 of set 12 | kirakira\n",
      "Processing Record 13 of set 12 | thinadhoo\n",
      "Processing Record 14 of set 12 | chipinge\n",
      "Processing Record 15 of set 12 | lichuan\n",
      "City not found. Skipping...\n",
      "Processing Record 16 of set 12 | makrana\n",
      "Processing Record 17 of set 12 | manaure\n",
      "Processing Record 18 of set 12 | weatherford\n",
      "Processing Record 19 of set 12 | kulhudhuffushi\n",
      "Processing Record 20 of set 12 | wheeling\n",
      "City not found. Skipping...\n",
      "Processing Record 21 of set 12 | palm coast\n",
      "Processing Record 22 of set 12 | eureka\n",
      "--------------------------------\n",
      "Data Retrieval Complete\n",
      "--------------------------------\n"
     ]
    }
   ],
   "source": [
    "#Set empty dictionary to store your information for the data frame\n",
    "dict_df ={}\n",
    "\n",
    "#Set the url and api key used to retrive the request and test \n",
    "url = f\"http://api.openweathermap.org/data/2.5/weather?q=\"\n",
    "api_key = f\"&appid={weather_api_key}\"\n",
    "units = \"&units=imperial\"\n",
    "\n",
    "# the below to show data retrieval in process\n",
    "print(\"Beginning Data Retrieval\")\n",
    "print(\"--------------------------------\")\n",
    "\n",
    "#set counter for the record and set count\n",
    "record = 1\n",
    "set_count = 1\n",
    "\n",
    "#Start for loop to get information from my API requests and store in empty list to create dataframe\n",
    "for city in cities:\n",
    "    #get request per city and store in request variable\n",
    "    request = requests.get(f\"{url}{city}{units}{api_key}\").json()\n",
    "    \n",
    "    # Try if error given continue to except\n",
    "    try:\n",
    "    # Get the the data needed for my dataframe and append to proper keys in dict_df dictionary\n",
    "        dict_df.setdefault(\"City\", []).append(request[\"name\"])\n",
    "        dict_df.setdefault(\"Lat\", []).append(request[\"coord\"][\"lat\"])\n",
    "        dict_df.setdefault(\"Lng\", []).append(request[\"coord\"][\"lon\"])\n",
    "        dict_df.setdefault(\"Max Temp\", []).append(request[\"main\"][\"temp_max\"])\n",
    "        dict_df.setdefault(\"Humidity\", []).append(request[\"main\"][\"humidity\"])\n",
    "        dict_df.setdefault(\"Cloudiness\", []).append(request[\"clouds\"][\"all\"])\n",
    "        dict_df.setdefault(\"Wind Speed\", []).append(request[\"wind\"][\"speed\"])\n",
    "        dict_df.setdefault(\"Country\", []).append(request[\"sys\"][\"country\"])\n",
    "        dict_df.setdefault(\"Date\", []).append(request[\"dt\"])\n",
    "        \n",
    "    #Print the record and set number and city name and add 1 to record counter\n",
    "        print(f\"Processing Record {record} of set {set_count} | {city}\")\n",
    "        record += 1\n",
    "        \n",
    "    except:\n",
    "    # Print error message if city not found\n",
    "        print(\"City not found. Skipping...\")\n",
    "        \n",
    "    # Check to see if record == 51 if so reset to 1 and add 1 set_count\n",
    "    if record == 51:\n",
    "        record = 1\n",
    "        set_count += 1\n",
    "print(\"--------------------------------\")\n",
    "print(\"Data Retrieval Complete\")\n",
    "print(\"--------------------------------\")"
   ]
  },
  {
   "cell_type": "markdown",
   "metadata": {},
   "source": [
    "### Convert Raw Data to DataFrame\n",
    "* Export the city data into a .csv.\n",
    "* Display the DataFrame"
   ]
  },
  {
   "cell_type": "code",
   "execution_count": 5,
   "metadata": {},
   "outputs": [
    {
     "data": {
      "text/html": [
       "<div>\n",
       "<style scoped>\n",
       "    .dataframe tbody tr th:only-of-type {\n",
       "        vertical-align: middle;\n",
       "    }\n",
       "\n",
       "    .dataframe tbody tr th {\n",
       "        vertical-align: top;\n",
       "    }\n",
       "\n",
       "    .dataframe thead th {\n",
       "        text-align: right;\n",
       "    }\n",
       "</style>\n",
       "<table border=\"1\" class=\"dataframe\">\n",
       "  <thead>\n",
       "    <tr style=\"text-align: right;\">\n",
       "      <th></th>\n",
       "      <th>City</th>\n",
       "      <th>Lat</th>\n",
       "      <th>Lng</th>\n",
       "      <th>Max Temp</th>\n",
       "      <th>Humidity</th>\n",
       "      <th>Cloudiness</th>\n",
       "      <th>Wind Speed</th>\n",
       "      <th>Country</th>\n",
       "      <th>Date</th>\n",
       "    </tr>\n",
       "  </thead>\n",
       "  <tbody>\n",
       "    <tr>\n",
       "      <th>0</th>\n",
       "      <td>Tuktoyaktuk</td>\n",
       "      <td>69.4541</td>\n",
       "      <td>-133.0374</td>\n",
       "      <td>-29.20</td>\n",
       "      <td>68</td>\n",
       "      <td>1</td>\n",
       "      <td>5.75</td>\n",
       "      <td>CA</td>\n",
       "      <td>1612280564</td>\n",
       "    </tr>\n",
       "    <tr>\n",
       "      <th>1</th>\n",
       "      <td>Nyandoma</td>\n",
       "      <td>61.6690</td>\n",
       "      <td>40.1991</td>\n",
       "      <td>12.22</td>\n",
       "      <td>97</td>\n",
       "      <td>100</td>\n",
       "      <td>6.60</td>\n",
       "      <td>RU</td>\n",
       "      <td>1612280800</td>\n",
       "    </tr>\n",
       "    <tr>\n",
       "      <th>2</th>\n",
       "      <td>Jamestown</td>\n",
       "      <td>42.0970</td>\n",
       "      <td>-79.2353</td>\n",
       "      <td>21.99</td>\n",
       "      <td>93</td>\n",
       "      <td>90</td>\n",
       "      <td>11.50</td>\n",
       "      <td>US</td>\n",
       "      <td>1612280801</td>\n",
       "    </tr>\n",
       "    <tr>\n",
       "      <th>3</th>\n",
       "      <td>Qaanaaq</td>\n",
       "      <td>77.4840</td>\n",
       "      <td>-69.3632</td>\n",
       "      <td>-4.65</td>\n",
       "      <td>84</td>\n",
       "      <td>100</td>\n",
       "      <td>4.70</td>\n",
       "      <td>GL</td>\n",
       "      <td>1612280801</td>\n",
       "    </tr>\n",
       "    <tr>\n",
       "      <th>4</th>\n",
       "      <td>Bubaque</td>\n",
       "      <td>11.2833</td>\n",
       "      <td>-15.8333</td>\n",
       "      <td>78.42</td>\n",
       "      <td>70</td>\n",
       "      <td>23</td>\n",
       "      <td>11.50</td>\n",
       "      <td>GW</td>\n",
       "      <td>1612280801</td>\n",
       "    </tr>\n",
       "  </tbody>\n",
       "</table>\n",
       "</div>"
      ],
      "text/plain": [
       "          City      Lat       Lng  Max Temp  Humidity  Cloudiness  Wind Speed  \\\n",
       "0  Tuktoyaktuk  69.4541 -133.0374    -29.20        68           1        5.75   \n",
       "1     Nyandoma  61.6690   40.1991     12.22        97         100        6.60   \n",
       "2    Jamestown  42.0970  -79.2353     21.99        93          90       11.50   \n",
       "3      Qaanaaq  77.4840  -69.3632     -4.65        84         100        4.70   \n",
       "4      Bubaque  11.2833  -15.8333     78.42        70          23       11.50   \n",
       "\n",
       "  Country        Date  \n",
       "0      CA  1612280564  \n",
       "1      RU  1612280800  \n",
       "2      US  1612280801  \n",
       "3      GL  1612280801  \n",
       "4      GW  1612280801  "
      ]
     },
     "execution_count": 5,
     "metadata": {},
     "output_type": "execute_result"
    }
   ],
   "source": [
    "# Convert to Dataframe\n",
    "df = pd.DataFrame(dict_df)\n",
    "\n",
    "# Export to a .csv file within the output directory\n",
    "df.to_csv(\"../output_data/cities(out).csv\")\n",
    "\n",
    "#Display the DataFrame\n",
    "df.head()"
   ]
  },
  {
   "cell_type": "markdown",
   "metadata": {},
   "source": [
    "## Inspect the data and remove the cities where the humidity > 100%.\n",
    "----\n",
    "Skip this step if there are no cities that have humidity > 100%. "
   ]
  },
  {
   "cell_type": "code",
   "execution_count": null,
   "metadata": {},
   "outputs": [],
   "source": []
  },
  {
   "cell_type": "code",
   "execution_count": 6,
   "metadata": {},
   "outputs": [
    {
     "data": {
      "text/html": [
       "<div>\n",
       "<style scoped>\n",
       "    .dataframe tbody tr th:only-of-type {\n",
       "        vertical-align: middle;\n",
       "    }\n",
       "\n",
       "    .dataframe tbody tr th {\n",
       "        vertical-align: top;\n",
       "    }\n",
       "\n",
       "    .dataframe thead th {\n",
       "        text-align: right;\n",
       "    }\n",
       "</style>\n",
       "<table border=\"1\" class=\"dataframe\">\n",
       "  <thead>\n",
       "    <tr style=\"text-align: right;\">\n",
       "      <th></th>\n",
       "      <th>Lat</th>\n",
       "      <th>Lng</th>\n",
       "      <th>Max Temp</th>\n",
       "      <th>Humidity</th>\n",
       "      <th>Cloudiness</th>\n",
       "      <th>Wind Speed</th>\n",
       "      <th>Date</th>\n",
       "    </tr>\n",
       "  </thead>\n",
       "  <tbody>\n",
       "    <tr>\n",
       "      <th>count</th>\n",
       "      <td>572.000000</td>\n",
       "      <td>572.000000</td>\n",
       "      <td>572.000000</td>\n",
       "      <td>572.000000</td>\n",
       "      <td>572.000000</td>\n",
       "      <td>572.000000</td>\n",
       "      <td>5.720000e+02</td>\n",
       "    </tr>\n",
       "    <tr>\n",
       "      <th>mean</th>\n",
       "      <td>21.663601</td>\n",
       "      <td>16.039670</td>\n",
       "      <td>49.611958</td>\n",
       "      <td>72.150350</td>\n",
       "      <td>52.956294</td>\n",
       "      <td>8.781049</td>\n",
       "      <td>1.612281e+09</td>\n",
       "    </tr>\n",
       "    <tr>\n",
       "      <th>std</th>\n",
       "      <td>33.357792</td>\n",
       "      <td>92.849111</td>\n",
       "      <td>32.879446</td>\n",
       "      <td>20.515641</td>\n",
       "      <td>39.478161</td>\n",
       "      <td>6.364753</td>\n",
       "      <td>6.710529e+01</td>\n",
       "    </tr>\n",
       "    <tr>\n",
       "      <th>min</th>\n",
       "      <td>-54.800000</td>\n",
       "      <td>-179.166700</td>\n",
       "      <td>-46.390000</td>\n",
       "      <td>9.000000</td>\n",
       "      <td>0.000000</td>\n",
       "      <td>0.450000</td>\n",
       "      <td>1.612280e+09</td>\n",
       "    </tr>\n",
       "    <tr>\n",
       "      <th>25%</th>\n",
       "      <td>-6.266700</td>\n",
       "      <td>-68.017925</td>\n",
       "      <td>27.000000</td>\n",
       "      <td>61.000000</td>\n",
       "      <td>8.000000</td>\n",
       "      <td>4.225000</td>\n",
       "      <td>1.612281e+09</td>\n",
       "    </tr>\n",
       "    <tr>\n",
       "      <th>50%</th>\n",
       "      <td>29.344650</td>\n",
       "      <td>21.987350</td>\n",
       "      <td>59.000000</td>\n",
       "      <td>77.000000</td>\n",
       "      <td>62.500000</td>\n",
       "      <td>6.910000</td>\n",
       "      <td>1.612281e+09</td>\n",
       "    </tr>\n",
       "    <tr>\n",
       "      <th>75%</th>\n",
       "      <td>48.717300</td>\n",
       "      <td>99.872100</td>\n",
       "      <td>77.000000</td>\n",
       "      <td>87.000000</td>\n",
       "      <td>90.000000</td>\n",
       "      <td>11.505000</td>\n",
       "      <td>1.612281e+09</td>\n",
       "    </tr>\n",
       "    <tr>\n",
       "      <th>max</th>\n",
       "      <td>78.218600</td>\n",
       "      <td>179.316700</td>\n",
       "      <td>100.560000</td>\n",
       "      <td>100.000000</td>\n",
       "      <td>100.000000</td>\n",
       "      <td>39.410000</td>\n",
       "      <td>1.612281e+09</td>\n",
       "    </tr>\n",
       "  </tbody>\n",
       "</table>\n",
       "</div>"
      ],
      "text/plain": [
       "              Lat         Lng    Max Temp    Humidity  Cloudiness  Wind Speed  \\\n",
       "count  572.000000  572.000000  572.000000  572.000000  572.000000  572.000000   \n",
       "mean    21.663601   16.039670   49.611958   72.150350   52.956294    8.781049   \n",
       "std     33.357792   92.849111   32.879446   20.515641   39.478161    6.364753   \n",
       "min    -54.800000 -179.166700  -46.390000    9.000000    0.000000    0.450000   \n",
       "25%     -6.266700  -68.017925   27.000000   61.000000    8.000000    4.225000   \n",
       "50%     29.344650   21.987350   59.000000   77.000000   62.500000    6.910000   \n",
       "75%     48.717300   99.872100   77.000000   87.000000   90.000000   11.505000   \n",
       "max     78.218600  179.316700  100.560000  100.000000  100.000000   39.410000   \n",
       "\n",
       "               Date  \n",
       "count  5.720000e+02  \n",
       "mean   1.612281e+09  \n",
       "std    6.710529e+01  \n",
       "min    1.612280e+09  \n",
       "25%    1.612281e+09  \n",
       "50%    1.612281e+09  \n",
       "75%    1.612281e+09  \n",
       "max    1.612281e+09  "
      ]
     },
     "execution_count": 6,
     "metadata": {},
     "output_type": "execute_result"
    }
   ],
   "source": [
    "# Use summary table to get the max and see if its above 100 for humidity \n",
    "df.describe()"
   ]
  },
  {
   "cell_type": "code",
   "execution_count": 12,
   "metadata": {},
   "outputs": [
    {
     "data": {
      "text/plain": [
       "(572, 572)"
      ]
     },
     "execution_count": 12,
     "metadata": {},
     "output_type": "execute_result"
    }
   ],
   "source": [
    "#  Get the indices of cities that have humidity over 100%.\n",
    "# Make a new DataFrame equal to the city data to drop all humidity outliers by index.\n",
    "# Passing \"inplace=False\" will make a copy of the city_data DataFrame, which we call \"clean_city_data\".\n",
    "\n",
    "if len(df.loc[df[\"Humidity\"] >= 100]) > 0:\n",
    "    clean_city_data = pd.DataFrame.copy(df).drop(df.loc[df[\"Humidity\"] >100].index)\n",
    "else:\n",
    "    clean_city_data = pd.DataFrame.copy(df)\n",
    "\n",
    "# print out lenghts of original and clean data to see if the values were dropped or not \n",
    "len(df), len(clean_city_data)\n",
    "\n",
    "    #Date time conversion and formating syntax\n",
    "        #datetime.date.fromtimestamp(1612267701).strftime(\"%m/%d/%y\")"
   ]
  },
  {
   "cell_type": "markdown",
   "metadata": {},
   "source": [
    "## Plotting the Data\n",
    "* Use proper labeling of the plots using plot titles (including date of analysis) and axes labels.\n",
    "* Save the plotted figures as .pngs."
   ]
  },
  {
   "cell_type": "markdown",
   "metadata": {},
   "source": [
    "## Latitude vs. Temperature Plot"
   ]
  },
  {
   "cell_type": "code",
   "execution_count": 8,
   "metadata": {
    "scrolled": true
   },
   "outputs": [
    {
     "data": {
      "text/plain": [
       "Text(0.5, 1.0, 'City Latitude vs. Max Temperature 02/02/21')"
      ]
     },
     "execution_count": 8,
     "metadata": {},
     "output_type": "execute_result"
    },
    {
     "data": {
      "image/png": "[encoded data removed]",
      "text/plain": [
       "<Figure size 432x288 with 1 Axes>"
      ]
     },
     "metadata": {
      "needs_background": "light"
     },
     "output_type": "display_data"
    }
   ],
   "source": [
    "plt.scatter(clean_city_data[\"Lat\"], clean_city_data[\"Max Temp\"])\n",
    "plt.grid()\n",
    "plt.xlabel(\"Latitude\")\n",
    "plt.ylabel(\"Max Temperature(F)\")\n",
    "plt.title(\"City Latitude vs. Max Temperature \" + datetime.date.fromtimestamp(df[\"Date\"][0]).strftime(\"%m/%d/%y\"))"
   ]
  },
  {
   "cell_type": "markdown",
   "metadata": {},
   "source": [
    "## Latitude vs. Humidity Plot"
   ]
  },
  {
   "cell_type": "code",
   "execution_count": 9,
   "metadata": {},
   "outputs": [
    {
     "data": {
      "text/plain": [
       "Text(0.5, 1.0, 'City Latitude vs. Humidity 02/02/21')"
      ]
     },
     "execution_count": 9,
     "metadata": {},
     "output_type": "execute_result"
    },
    {
     "data": {
      "image/png": "[encoded data removed]",
      "text/plain": [
       "<Figure size 432x288 with 1 Axes>"
      ]
     },
     "metadata": {
      "needs_background": "light"
     },
     "output_type": "display_data"
    }
   ],
   "source": [
    "plt.scatter(clean_city_data[\"Lat\"], clean_city_data[\"Humidity\"])\n",
    "plt.grid()\n",
    "plt.xlabel(\"Latitude\")\n",
    "plt.ylabel(\"Humidity (%)\")\n",
    "plt.title(\"City Latitude vs. Humidity \" + datetime.date.fromtimestamp(df[\"Date\"][0]).strftime(\"%m/%d/%y\"))"
   ]
  },
  {
   "cell_type": "markdown",
   "metadata": {},
   "source": [
    "## Latitude vs. Cloudiness Plot"
   ]
  },
  {
   "cell_type": "code",
   "execution_count": 10,
   "metadata": {},
   "outputs": [
    {
     "data": {
      "text/plain": [
       "Text(0.5, 1.0, 'City Latitude vs. Cloudiness 02/02/21')"
      ]
     },
     "execution_count": 10,
     "metadata": {},
     "output_type": "execute_result"
    },
    {
     "data": {
      "image/png": "[encoded data removed]",
      "text/plain": [
       "<Figure size 432x288 with 1 Axes>"
      ]
     },
     "metadata": {
      "needs_background": "light"
     },
     "output_type": "display_data"
    }
   ],
   "source": [
    "plt.scatter(clean_city_data[\"Lat\"], clean_city_data[\"Cloudiness\"])\n",
    "plt.grid()\n",
    "plt.xlabel(\"Latitude\")\n",
    "plt.ylabel(\"Cloudiness (%)\")\n",
    "plt.title(\"City Latitude vs. Cloudiness \" + datetime.date.fromtimestamp(df[\"Date\"][0]).strftime(\"%m/%d/%y\"))"
   ]
  },
  {
   "cell_type": "markdown",
   "metadata": {},
   "source": [
    "## Latitude vs. Wind Speed Plot"
   ]
  },
  {
   "cell_type": "code",
   "execution_count": 11,
   "metadata": {},
   "outputs": [
    {
     "data": {
      "text/plain": [
       "Text(0.5, 1.0, 'City Latitude vs. Wind Speed 02/02/21')"
      ]
     },
     "execution_count": 11,
     "metadata": {},
     "output_type": "execute_result"
    },
    {
     "data": {
      "image/png": "[encoded data removed]",
      "text/plain": [
       "<Figure size 432x288 with 1 Axes>"
      ]
     },
     "metadata": {
      "needs_background": "light"
     },
     "output_type": "display_data"
    }
   ],
   "source": [
    "plt.scatter(clean_city_data[\"Lat\"], clean_city_data[\"Wind Speed\"])\n",
    "plt.grid()\n",
    "plt.xlabel(\"Latitude\")\n",
    "plt.ylabel(\"Wind Speed (mph)\")\n",
    "plt.title(\"City Latitude vs. Wind Speed \" + datetime.date.fromtimestamp(df[\"Date\"][0]).strftime(\"%m/%d/%y\"))"
   ]
  },
  {
   "cell_type": "markdown",
   "metadata": {},
   "source": [
    "## Linear Regression"
   ]
  },
  {
   "cell_type": "code",
   "execution_count": 15,
   "metadata": {},
   "outputs": [
    {
     "data": {
      "text/plain": [
       "(405, 167)"
      ]
     },
     "execution_count": 15,
     "metadata": {},
     "output_type": "execute_result"
    }
   ],
   "source": [
    "#Split the data into Northern and Souther hemisphere using latitude\n",
    "\n",
    "northern_hem = clean_city_data.loc[clean_city_data[\"Lat\"] > 0]\n",
    "southern_hem = clean_city_data.loc[clean_city_data[\"Lat\"]< 0]\n",
    "\n",
    "#check numbers add to total length of clean data\n",
    "len(northern_hem), len(southern_hem)"
   ]
  },
  {
   "cell_type": "code",
   "execution_count": 79,
   "metadata": {},
   "outputs": [],
   "source": [
    "# Define function used for each linear regression\n",
    "def linear_regressions(x_column,y_column):\n",
    "    x = x_column\n",
    "    y = y_column\n",
    "    (slope, intercept, rval, p_value, st) = linregress(x, y)\n",
    "    regress_values = x * slope + intercept\n",
    "    line_eq = \"y = \" + str(round(slope,2)) + \"x + \" + str(round(intercept,2))\n",
    "    plt.scatter(x_column, y_column)\n",
    "    plt.xlabel(\"Latitude\")\n",
    "    plt.ylabel(y_column.name)\n",
    "    plt.plot(x,regress_values,\"r-\")\n",
    "    print(f\"R Squared is: {rval** 2}\")\n",
    "    plt.annotate(line_eq,(max(x),max(y)),fontsize=15,color=\"red\")"
   ]
  },
  {
   "cell_type": "markdown",
   "metadata": {},
   "source": [
    "####  Northern Hemisphere - Max Temp vs. Latitude Linear Regression"
   ]
  },
  {
   "cell_type": "code",
   "execution_count": 80,
   "metadata": {},
   "outputs": [
    {
     "name": "stdout",
     "output_type": "stream",
     "text": [
      "R Squared is: 0.7494335925854512\n"
     ]
    },
    {
     "data": {
      "image/png": "[encoded data removed]",
      "text/plain": [
       "<Figure size 432x288 with 1 Axes>"
      ]
     },
     "metadata": {
      "needs_background": "light"
     },
     "output_type": "display_data"
    }
   ],
   "source": [
    "linear_regressions(northern_hem[\"Lat\"], northern_hem[\"Max Temp\"])"
   ]
  },
  {
   "cell_type": "markdown",
   "metadata": {},
   "source": [
    "#### Southern Hemisphere - Max Temp vs. Latitude Linear Regression"
   ]
  },
  {
   "cell_type": "code",
   "execution_count": 67,
   "metadata": {},
   "outputs": [
    {
     "name": "stdout",
     "output_type": "stream",
     "text": [
      "R Squared is: 0.33310688430323454\n"
     ]
    },
    {
     "data": {
      "image/png": "[encoded data removed]",
      "text/plain": [
       "<Figure size 432x288 with 1 Axes>"
      ]
     },
     "metadata": {
      "needs_background": "light"
     },
     "output_type": "display_data"
    }
   ],
   "source": [
    "linear_regressions(souther_hem[\"Lat\"], souther_hem[\"Max Temp\"])"
   ]
  },
  {
   "cell_type": "markdown",
   "metadata": {},
   "source": [
    "####  Northern Hemisphere - Humidity (%) vs. Latitude Linear Regression"
   ]
  },
  {
   "cell_type": "code",
   "execution_count": 68,
   "metadata": {},
   "outputs": [
    {
     "name": "stdout",
     "output_type": "stream",
     "text": [
      "R Squared is: 0.19030044639540236\n"
     ]
    },
    {
     "data": {
      "image/png": "[encoded data removed]",
      "text/plain": [
       "<Figure size 432x288 with 1 Axes>"
      ]
     },
     "metadata": {
      "needs_background": "light"
     },
     "output_type": "display_data"
    }
   ],
   "source": [
    "linear_regressions(northern_hem[\"Lat\"], northern_hem[\"Humidity\"])"
   ]
  },
  {
   "cell_type": "markdown",
   "metadata": {},
   "source": [
    "####  Southern Hemisphere - Humidity (%) vs. Latitude Linear Regression"
   ]
  },
  {
   "cell_type": "code",
   "execution_count": 69,
   "metadata": {},
   "outputs": [
    {
     "name": "stdout",
     "output_type": "stream",
     "text": [
      "R Squared is: 0.02860831071717777\n"
     ]
    },
    {
     "data": {
      "image/png": "[encoded data removed]",
      "text/plain": [
       "<Figure size 432x288 with 1 Axes>"
      ]
     },
     "metadata": {
      "needs_background": "light"
     },
     "output_type": "display_data"
    }
   ],
   "source": [
    "linear_regressions(souther_hem[\"Lat\"], souther_hem[\"Humidity\"])"
   ]
  },
  {
   "cell_type": "markdown",
   "metadata": {},
   "source": [
    "####  Northern Hemisphere - Cloudiness (%) vs. Latitude Linear Regression"
   ]
  },
  {
   "cell_type": "code",
   "execution_count": 70,
   "metadata": {},
   "outputs": [
    {
     "name": "stdout",
     "output_type": "stream",
     "text": [
      "R Squared is: 0.1628055769593575\n"
     ]
    },
    {
     "data": {
      "image/png": "[encoded data removed]",
      "text/plain": [
       "<Figure size 432x288 with 1 Axes>"
      ]
     },
     "metadata": {
      "needs_background": "light"
     },
     "output_type": "display_data"
    }
   ],
   "source": [
    "linear_regressions(northern_hem[\"Lat\"], northern_hem[\"Cloudiness\"])"
   ]
  },
  {
   "cell_type": "markdown",
   "metadata": {},
   "source": [
    "####  Southern Hemisphere - Cloudiness (%) vs. Latitude Linear Regression"
   ]
  },
  {
   "cell_type": "code",
   "execution_count": 71,
   "metadata": {},
   "outputs": [
    {
     "name": "stdout",
     "output_type": "stream",
     "text": [
      "R Squared is: 0.07175909114837244\n"
     ]
    },
    {
     "data": {
      "image/png": "[encoded data removed]",
      "text/plain": [
       "<Figure size 432x288 with 1 Axes>"
      ]
     },
     "metadata": {
      "needs_background": "light"
     },
     "output_type": "display_data"
    }
   ],
   "source": [
    "linear_regressions(souther_hem[\"Lat\"], souther_hem[\"Cloudiness\"])"
   ]
  },
  {
   "cell_type": "markdown",
   "metadata": {},
   "source": [
    "####  Northern Hemisphere - Wind Speed (mph) vs. Latitude Linear Regression"
   ]
  },
  {
   "cell_type": "code",
   "execution_count": 73,
   "metadata": {},
   "outputs": [
    {
     "name": "stdout",
     "output_type": "stream",
     "text": [
      "R Squared is: 0.002444010862747232\n"
     ]
    },
    {
     "data": {
      "image/png": "[encoded data removed]",
      "text/plain": [
       "<Figure size 432x288 with 1 Axes>"
      ]
     },
     "metadata": {
      "needs_background": "light"
     },
     "output_type": "display_data"
    }
   ],
   "source": [
    "linear_regressions(northern_hem[\"Lat\"], northern_hem[\"Wind Speed\"])"
   ]
  },
  {
   "cell_type": "markdown",
   "metadata": {},
   "source": [
    "####  Southern Hemisphere - Wind Speed (mph) vs. Latitude Linear Regression"
   ]
  },
  {
   "cell_type": "code",
   "execution_count": 74,
   "metadata": {},
   "outputs": [
    {
     "name": "stdout",
     "output_type": "stream",
     "text": [
      "R Squared is: 7.984487234239328e-05\n"
     ]
    },
    {
     "data": {
      "image/png": "[encoded data removed]",
      "text/plain": [
       "<Figure size 432x288 with 1 Axes>"
      ]
     },
     "metadata": {
      "needs_background": "light"
     },
     "output_type": "display_data"
    }
   ],
   "source": [
    "linear_regressions(souther_hem[\"Lat\"], souther_hem[\"Wind Speed\"])"
   ]
  },
  {
   "cell_type": "code",
   "execution_count": null,
   "metadata": {},
   "outputs": [],
   "source": []
  }
 ],
 "metadata": {
  "anaconda-cloud": {},
  "kernel_info": {
   "name": "python3"
  },
  "kernelspec": {
   "display_name": "PythonData",
   "language": "python",
   "name": "pythondata"
  },
  "language_info": {
   "codemirror_mode": {
    "name": "ipython",
    "version": 3
   },
   "file_extension": ".py",
   "mimetype": "text/x-python",
   "name": "python",
   "nbconvert_exporter": "python",
   "pygments_lexer": "ipython3",
   "version": "3.6.12"
  },
  "latex_envs": {
   "LaTeX_envs_menu_present": true,
   "autoclose": false,
   "autocomplete": true,
   "bibliofile": "biblio.bib",
   "cite_by": "apalike",
   "current_citInitial": 1,
   "eqLabelWithNumbers": true,
   "eqNumInitial": 1,
   "hotkeys": {
    "equation": "Ctrl-E",
    "itemize": "Ctrl-I"
   },
   "labels_anchors": false,
   "latex_user_defs": false,
   "report_style_numbering": false,
   "user_envs_cfg": false
  },
  "nteract": {
   "version": "0.12.3"
  }
 },
 "nbformat": 4,
 "nbformat_minor": 4
}
